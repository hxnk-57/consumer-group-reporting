{
 "cells": [
  {
   "cell_type": "code",
   "execution_count": null,
   "metadata": {},
   "outputs": [],
   "source": [
    "import http.client\n",
    "import json\n",
    "import logging\n",
    "import os\n",
    "from dotenv import load_dotenv\n",
    "\n",
    "load_dotenv()\n",
    "\n",
    "logging.basicConfig(level=logging.INFO, format='%(asctime)s - %(levelname)s - %(message)s')\n",
    "\n",
    "REPORT_NAME = \"CA_DEV_REPORT\"\n",
    "HEADERS = { 'Authorization': f\"Basic {os.getenv(\"HEADER\")}\" }\n",
    "CLUSTER_ID = os.getenv(\"CLUSTER_ID\")\n",
    "ENDPOINT = os.getenv(\"ENDPOINT\")\n",
    "\n",
    "\n",
    "if not all([HEADERS['Authorization'], CLUSTER_ID, ENDPOINT]):\n",
    "    logging.error(\"Missing required environment variables.\")\n",
    "    exit(1)\n",
    "\n",
    "def make_request(method: str, endpoint: str) -> dict:\n",
    "    try:\n",
    "        conn = http.client.HTTPSConnection(ENDPOINT)\n",
    "        conn.request(method, endpoint, headers=HEADERS)\n",
    "        response = conn.getresponse()\n",
    "        data_str = response.read().decode(\"utf-8\")\n",
    "        return json.loads(data_str)\n",
    "    except json.JSONDecodeError as e:\n",
    "        logging.error(f\"Error decoding JSON from {endpoint}: {e}\")\n",
    "    except Exception as e:\n",
    "        logging.error(f\"Error making request to {endpoint}: {e}\")\n",
    "    finally:\n",
    "        conn.close()\n",
    "    return {}\n"
   ]
  },
  {
   "cell_type": "code",
   "execution_count": null,
   "metadata": {},
   "outputs": [
    {
     "ename": "ValueError",
     "evalue": "Length mismatch: Expected axis has 4 elements, new values have 3 elements",
     "output_type": "error",
     "traceback": [
      "\u001b[1;31m---------------------------------------------------------------------------\u001b[0m",
      "\u001b[1;31mValueError\u001b[0m                                Traceback (most recent call last)",
      "Cell \u001b[1;32mIn[44], line 8\u001b[0m\n\u001b[0;32m      5\u001b[0m pivot_df \u001b[38;5;241m=\u001b[39m df\u001b[38;5;241m.\u001b[39mgroupby([\u001b[38;5;124m'\u001b[39m\u001b[38;5;124mconsumer_group_id\u001b[39m\u001b[38;5;124m'\u001b[39m, \u001b[38;5;124m'\u001b[39m\u001b[38;5;124mstate\u001b[39m\u001b[38;5;124m'\u001b[39m])\u001b[38;5;241m.\u001b[39msize()\u001b[38;5;241m.\u001b[39munstack(fill_value\u001b[38;5;241m=\u001b[39m\u001b[38;5;241m0\u001b[39m)\u001b[38;5;241m.\u001b[39mreset_index()\n\u001b[0;32m      7\u001b[0m \u001b[38;5;66;03m# Step 2: Rename columns to match desired format\u001b[39;00m\n\u001b[1;32m----> 8\u001b[0m \u001b[43mpivot_df\u001b[49m\u001b[38;5;241;43m.\u001b[39;49m\u001b[43mcolumns\u001b[49m \u001b[38;5;241m=\u001b[39m [\u001b[38;5;124m'\u001b[39m\u001b[38;5;124mconsumer_group_id\u001b[39m\u001b[38;5;124m'\u001b[39m, \u001b[38;5;124m'\u001b[39m\u001b[38;5;124mpreparing_rebalance\u001b[39m\u001b[38;5;124m'\u001b[39m, \u001b[38;5;124m'\u001b[39m\u001b[38;5;124mstable\u001b[39m\u001b[38;5;124m'\u001b[39m]  \u001b[38;5;66;03m# Ensure column order matches the final output\u001b[39;00m\n\u001b[0;32m     10\u001b[0m \u001b[38;5;66;03m# Step 3: Reorder columns as necessary\u001b[39;00m\n\u001b[0;32m     11\u001b[0m pivot_df \u001b[38;5;241m=\u001b[39m pivot_df[[\u001b[38;5;124m'\u001b[39m\u001b[38;5;124mconsumer_group_id\u001b[39m\u001b[38;5;124m'\u001b[39m, \u001b[38;5;124m'\u001b[39m\u001b[38;5;124mstable\u001b[39m\u001b[38;5;124m'\u001b[39m, \u001b[38;5;124m'\u001b[39m\u001b[38;5;124mpreparing_rebalance\u001b[39m\u001b[38;5;124m'\u001b[39m]]\n",
      "File \u001b[1;32mc:\\Users\\HenkBornman\\AppData\\Local\\Programs\\Python\\Python312\\Lib\\site-packages\\pandas\\core\\generic.py:6313\u001b[0m, in \u001b[0;36mNDFrame.__setattr__\u001b[1;34m(self, name, value)\u001b[0m\n\u001b[0;32m   6311\u001b[0m \u001b[38;5;28;01mtry\u001b[39;00m:\n\u001b[0;32m   6312\u001b[0m     \u001b[38;5;28mobject\u001b[39m\u001b[38;5;241m.\u001b[39m\u001b[38;5;21m__getattribute__\u001b[39m(\u001b[38;5;28mself\u001b[39m, name)\n\u001b[1;32m-> 6313\u001b[0m     \u001b[38;5;28;01mreturn\u001b[39;00m \u001b[38;5;28;43mobject\u001b[39;49m\u001b[38;5;241;43m.\u001b[39;49m\u001b[38;5;21;43m__setattr__\u001b[39;49m\u001b[43m(\u001b[49m\u001b[38;5;28;43mself\u001b[39;49m\u001b[43m,\u001b[49m\u001b[43m \u001b[49m\u001b[43mname\u001b[49m\u001b[43m,\u001b[49m\u001b[43m \u001b[49m\u001b[43mvalue\u001b[49m\u001b[43m)\u001b[49m\n\u001b[0;32m   6314\u001b[0m \u001b[38;5;28;01mexcept\u001b[39;00m \u001b[38;5;167;01mAttributeError\u001b[39;00m:\n\u001b[0;32m   6315\u001b[0m     \u001b[38;5;28;01mpass\u001b[39;00m\n",
      "File \u001b[1;32mproperties.pyx:69\u001b[0m, in \u001b[0;36mpandas._libs.properties.AxisProperty.__set__\u001b[1;34m()\u001b[0m\n",
      "File \u001b[1;32mc:\\Users\\HenkBornman\\AppData\\Local\\Programs\\Python\\Python312\\Lib\\site-packages\\pandas\\core\\generic.py:814\u001b[0m, in \u001b[0;36mNDFrame._set_axis\u001b[1;34m(self, axis, labels)\u001b[0m\n\u001b[0;32m    809\u001b[0m \u001b[38;5;250m\u001b[39m\u001b[38;5;124;03m\"\"\"\u001b[39;00m\n\u001b[0;32m    810\u001b[0m \u001b[38;5;124;03mThis is called from the cython code when we set the `index` attribute\u001b[39;00m\n\u001b[0;32m    811\u001b[0m \u001b[38;5;124;03mdirectly, e.g. `series.index = [1, 2, 3]`.\u001b[39;00m\n\u001b[0;32m    812\u001b[0m \u001b[38;5;124;03m\"\"\"\u001b[39;00m\n\u001b[0;32m    813\u001b[0m labels \u001b[38;5;241m=\u001b[39m ensure_index(labels)\n\u001b[1;32m--> 814\u001b[0m \u001b[38;5;28;43mself\u001b[39;49m\u001b[38;5;241;43m.\u001b[39;49m\u001b[43m_mgr\u001b[49m\u001b[38;5;241;43m.\u001b[39;49m\u001b[43mset_axis\u001b[49m\u001b[43m(\u001b[49m\u001b[43maxis\u001b[49m\u001b[43m,\u001b[49m\u001b[43m \u001b[49m\u001b[43mlabels\u001b[49m\u001b[43m)\u001b[49m\n\u001b[0;32m    815\u001b[0m \u001b[38;5;28mself\u001b[39m\u001b[38;5;241m.\u001b[39m_clear_item_cache()\n",
      "File \u001b[1;32mc:\\Users\\HenkBornman\\AppData\\Local\\Programs\\Python\\Python312\\Lib\\site-packages\\pandas\\core\\internals\\managers.py:238\u001b[0m, in \u001b[0;36mBaseBlockManager.set_axis\u001b[1;34m(self, axis, new_labels)\u001b[0m\n\u001b[0;32m    236\u001b[0m \u001b[38;5;28;01mdef\u001b[39;00m \u001b[38;5;21mset_axis\u001b[39m(\u001b[38;5;28mself\u001b[39m, axis: AxisInt, new_labels: Index) \u001b[38;5;241m-\u001b[39m\u001b[38;5;241m>\u001b[39m \u001b[38;5;28;01mNone\u001b[39;00m:\n\u001b[0;32m    237\u001b[0m     \u001b[38;5;66;03m# Caller is responsible for ensuring we have an Index object.\u001b[39;00m\n\u001b[1;32m--> 238\u001b[0m     \u001b[38;5;28;43mself\u001b[39;49m\u001b[38;5;241;43m.\u001b[39;49m\u001b[43m_validate_set_axis\u001b[49m\u001b[43m(\u001b[49m\u001b[43maxis\u001b[49m\u001b[43m,\u001b[49m\u001b[43m \u001b[49m\u001b[43mnew_labels\u001b[49m\u001b[43m)\u001b[49m\n\u001b[0;32m    239\u001b[0m     \u001b[38;5;28mself\u001b[39m\u001b[38;5;241m.\u001b[39maxes[axis] \u001b[38;5;241m=\u001b[39m new_labels\n",
      "File \u001b[1;32mc:\\Users\\HenkBornman\\AppData\\Local\\Programs\\Python\\Python312\\Lib\\site-packages\\pandas\\core\\internals\\base.py:98\u001b[0m, in \u001b[0;36mDataManager._validate_set_axis\u001b[1;34m(self, axis, new_labels)\u001b[0m\n\u001b[0;32m     95\u001b[0m     \u001b[38;5;28;01mpass\u001b[39;00m\n\u001b[0;32m     97\u001b[0m \u001b[38;5;28;01melif\u001b[39;00m new_len \u001b[38;5;241m!=\u001b[39m old_len:\n\u001b[1;32m---> 98\u001b[0m     \u001b[38;5;28;01mraise\u001b[39;00m \u001b[38;5;167;01mValueError\u001b[39;00m(\n\u001b[0;32m     99\u001b[0m         \u001b[38;5;124mf\u001b[39m\u001b[38;5;124m\"\u001b[39m\u001b[38;5;124mLength mismatch: Expected axis has \u001b[39m\u001b[38;5;132;01m{\u001b[39;00mold_len\u001b[38;5;132;01m}\u001b[39;00m\u001b[38;5;124m elements, new \u001b[39m\u001b[38;5;124m\"\u001b[39m\n\u001b[0;32m    100\u001b[0m         \u001b[38;5;124mf\u001b[39m\u001b[38;5;124m\"\u001b[39m\u001b[38;5;124mvalues have \u001b[39m\u001b[38;5;132;01m{\u001b[39;00mnew_len\u001b[38;5;132;01m}\u001b[39;00m\u001b[38;5;124m elements\u001b[39m\u001b[38;5;124m\"\u001b[39m\n\u001b[0;32m    101\u001b[0m     )\n",
      "\u001b[1;31mValueError\u001b[0m: Length mismatch: Expected axis has 4 elements, new values have 3 elements"
     ]
    }
   ],
   "source": [
    "import pandas as pd\n",
    "\n",
    "df =pd.read_csv(\"consumer_group_states.csv\")\n",
    "\n",
    "pivot_df = df.groupby(['consumer_group_id', 'state']).size().unstack(fill_value=0).reset_index()\n",
    "\n",
    "# Step 2: Rename columns to match desired format\n",
    "pivot_df.columns = ['consumer_group_id', 'preparing_rebalance', 'stable']  # Ensure column order matches the final output\n",
    "\n",
    "# Step 3: Reorder columns as necessary\n",
    "pivot_df = pivot_df[['consumer_group_id', 'stable', 'preparing_rebalance']]\n",
    "\n",
    "sorted = pivot_df.\n",
    "sorted.head()"
   ]
  },
  {
   "cell_type": "code",
   "execution_count": 15,
   "metadata": {},
   "outputs": [
    {
     "data": {
      "text/html": [
       "<div>\n",
       "<style scoped>\n",
       "    .dataframe tbody tr th:only-of-type {\n",
       "        vertical-align: middle;\n",
       "    }\n",
       "\n",
       "    .dataframe tbody tr th {\n",
       "        vertical-align: top;\n",
       "    }\n",
       "\n",
       "    .dataframe thead th {\n",
       "        text-align: right;\n",
       "    }\n",
       "</style>\n",
       "<table border=\"1\" class=\"dataframe\">\n",
       "  <thead>\n",
       "    <tr style=\"text-align: right;\">\n",
       "      <th></th>\n",
       "      <th>consumer_group_id</th>\n",
       "      <th>preparing_rebalance</th>\n",
       "      <th>stable</th>\n",
       "    </tr>\n",
       "  </thead>\n",
       "  <tbody>\n",
       "    <tr>\n",
       "      <th>132</th>\n",
       "      <td>vitality-manage-health-attributes-service-1.ca...</td>\n",
       "      <td>1</td>\n",
       "      <td>2</td>\n",
       "    </tr>\n",
       "    <tr>\n",
       "      <th>0</th>\n",
       "      <td>PIMS-va.pims.inboundendpoint.56.apple.appstore...</td>\n",
       "      <td>0</td>\n",
       "      <td>1</td>\n",
       "    </tr>\n",
       "    <tr>\n",
       "      <th>2</th>\n",
       "      <td>WSO2_ESB-va.ndc.inboundendpoint.accountstatusc...</td>\n",
       "      <td>0</td>\n",
       "      <td>1</td>\n",
       "    </tr>\n",
       "    <tr>\n",
       "      <th>3</th>\n",
       "      <td>WSO2_ESB-va.ndc.inboundendpoint.activerewardno...</td>\n",
       "      <td>0</td>\n",
       "      <td>1</td>\n",
       "    </tr>\n",
       "    <tr>\n",
       "      <th>4</th>\n",
       "      <td>WSO2_ESB-va.ndc.inboundendpoint.activityremind...</td>\n",
       "      <td>0</td>\n",
       "      <td>1</td>\n",
       "    </tr>\n",
       "  </tbody>\n",
       "</table>\n",
       "</div>"
      ],
      "text/plain": [
       "                                     consumer_group_id  preparing_rebalance  \\\n",
       "132  vitality-manage-health-attributes-service-1.ca...                    1   \n",
       "0    PIMS-va.pims.inboundendpoint.56.apple.appstore...                    0   \n",
       "2    WSO2_ESB-va.ndc.inboundendpoint.accountstatusc...                    0   \n",
       "3    WSO2_ESB-va.ndc.inboundendpoint.activerewardno...                    0   \n",
       "4    WSO2_ESB-va.ndc.inboundendpoint.activityremind...                    0   \n",
       "\n",
       "     stable  \n",
       "132       2  \n",
       "0         1  \n",
       "2         1  \n",
       "3         1  \n",
       "4         1  "
      ]
     },
     "execution_count": 15,
     "metadata": {},
     "output_type": "execute_result"
    }
   ],
   "source": [
    "import pandas as pd\n",
    "\n",
    "\n",
    "df =pd.read_csv(\"consumer_group_states.csv\")\n",
    "\n",
    "# Step 1: Create dummy variables for each state\n",
    "dummies = pd.get_dummies(df['state'], prefix='', prefix_sep='')\n",
    "\n",
    "# Step 2: Concatenate the dummy variables with the original DataFrame\n",
    "df_with_dummies = pd.concat([df[['consumer_group_id']], dummies], axis=1)\n",
    "\n",
    "# Step 3: Group by consumer_group_id and sum the counts\n",
    "result = df_with_dummies.groupby('consumer_group_id').sum().reset_index()\n",
    "\n",
    "# Step 4: (Optional) Rename the columns to have a clearer structure\n",
    "result.columns.name = None  # Remove the name of the index\n",
    "result = result.rename(columns=lambda x: x if x == 'consumer_group_id' else f\"{x.lower()}\")\n",
    "\n",
    "new = result.sort_values(by=['preparing_rebalance'], ascending=False)\n",
    "new.head()\n"
   ]
  },
  {
   "cell_type": "code",
   "execution_count": null,
   "metadata": {},
   "outputs": [],
   "source": [
    "def get_consumer_group_ids() -> list[str]:\n",
    "    logging.info(f\"Fetching consumer group IDs for cluster {CLUSTER_ID}...\")\n",
    "    json_data = make_request(\"GET\", f\"/kafka/v3/clusters/{CLUSTER_ID}/consumer-groups\")\n",
    "    consumer_groups = [item[\"consumer_group_id\"] for item in json_data.get(\"data\", [])]\n",
    "    logging.info(f\"Found {len(consumer_groups)} consumer groups\")\n",
    "    return consumer_groups"
   ]
  },
  {
   "cell_type": "code",
   "execution_count": null,
   "metadata": {},
   "outputs": [],
   "source": [
    "def get_consumer_ids(consumer_group_id) -> list[str]:\n",
    "    logging.info(f\"Fetching consumers for group: {consumer_group_id}.\")\n",
    "    json_data = make_request(\"GET\", f\"/kafka/v3/clusters/{CLUSTER_ID}/consumer-groups/{consumer_group_id}/consumers\")\n",
    "    \n",
    "    if 'data' in json_data and isinstance(json_data['data'], list):\n",
    "        return [consumer.get('consumer_id') for consumer in json_data['data'] if consumer.get('consumer_id')]\n",
    "    \n",
    "    logging.error(\"No consumer data found in the consumer group.\")\n",
    "    return []\n"
   ]
  },
  {
   "cell_type": "code",
   "execution_count": null,
   "metadata": {},
   "outputs": [],
   "source": [
    "def get_consumer_info(consumer_group_id, consumer_id):   \n",
    "    json_data = make_request(\"GET\", f\"/kafka/v3/clusters/{CLUSTER_ID}/consumer-groups/{consumer_group_id}/consumers/{consumer_id}\")\n",
    "\n",
    "    if 'consumer_id' in json_data:\n",
    "        return {\n",
    "            \"consumer_id\": json_data.get('consumer_id'),\n",
    "            \"instance_id\": json_data.get('instance_id'),\n",
    "            \"client_id\": json_data.get('client_id'),\n",
    "            \"assignments_url\": json_data.get('assignments', {}).get('related')\n",
    "        }\n",
    "    \n",
    "    logging.error(\"No valid consumer data found in the response.\")\n",
    "    return None"
   ]
  },
  {
   "cell_type": "code",
   "execution_count": null,
   "metadata": {},
   "outputs": [],
   "source": [
    "consumer_group_ids = get_consumer_group_ids()\n",
    "for consumer_group_id in consumer_group_ids:\n",
    "    consumer_ids = get_consumer_ids(consumer_group_id)\n",
    "    for i, consumer_id in enumerate(consumer_ids, start=1):\n",
    "        consumer_info = get_consumer_info(consumer_group_id, consumer_id)\n",
    "        if consumer_info:\n",
    "            logging.info(f\"Consumer {i}/{len(consumer_ids)} in group: {consumer_group_id}:\")\n",
    "            print(json.dumps(consumer_info, indent=2))\n"
   ]
  }
 ],
 "metadata": {
  "kernelspec": {
   "display_name": "Python 3",
   "language": "python",
   "name": "python3"
  },
  "language_info": {
   "codemirror_mode": {
    "name": "ipython",
    "version": 3
   },
   "file_extension": ".py",
   "mimetype": "text/x-python",
   "name": "python",
   "nbconvert_exporter": "python",
   "pygments_lexer": "ipython3",
   "version": "3.12.4"
  }
 },
 "nbformat": 4,
 "nbformat_minor": 2
}
